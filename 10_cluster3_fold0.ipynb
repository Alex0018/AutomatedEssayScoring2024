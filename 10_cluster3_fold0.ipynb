{
 "cells": [
  {
   "cell_type": "code",
   "execution_count": 1,
   "metadata": {},
   "outputs": [
    {
     "name": "stderr",
     "output_type": "stream",
     "text": [
      "C:\\Users\\Hawkins\\AppData\\Local\\Packages\\PythonSoftwareFoundation.Python.3.8_qbz5n2kfra8p0\\LocalCache\\local-packages\\Python38\\site-packages\\tqdm\\auto.py:21: TqdmWarning: IProgress not found. Please update jupyter and ipywidgets. See https://ipywidgets.readthedocs.io/en/stable/user_install.html\n",
      "  from .autonotebook import tqdm as notebook_tqdm\n"
     ]
    }
   ],
   "source": [
    "import pandas as pd\n",
    "import numpy as np\n",
    "\n",
    "from tqdm import tqdm\n",
    "\n",
    "from sklearn.metrics import cohen_kappa_score\n",
    "\n",
    "import torch\n",
    "\n",
    "from src.config import ProjectPaths, read_train\n",
    "from src.ES_dataset import create_dataloaders, EssayDataset, collate_batch\n",
    "from src.ES_model import EssayClassifierModel\n",
    "\n",
    "import matplotlib.pyplot as plt\n",
    "import seaborn as sns\n",
    "from src.styles import set_styles, TXT_ACC, TXT_RESET, PALETTE\n",
    "set_styles()\n",
    "\n",
    "from warnings import filterwarnings\n",
    "filterwarnings('ignore')"
   ]
  },
  {
   "cell_type": "code",
   "execution_count": 2,
   "metadata": {},
   "outputs": [],
   "source": [
    "df_train = read_train()\n",
    "df_clusters = pd.read_csv('data/train_clusters.csv')\n",
    "\n",
    "df_train = df_train.merge(df_clusters, on='essay_id')\n",
    "df_train.query('clusters7 == 3')[['essay_id', 'full_text', 'score', 'fold']].to_csv('data/train_cluster3.csv', index=False)\n",
    "\n",
    "df_cluster3 = pd.read_csv('data/train_cluster3.csv')"
   ]
  },
  {
   "cell_type": "code",
   "execution_count": 3,
   "metadata": {},
   "outputs": [
    {
     "data": {
      "text/plain": [
       "fold\n",
       "2.0    356\n",
       "4.0    336\n",
       "1.0    333\n",
       "3.0    322\n",
       "0.0    301\n",
       "Name: count, dtype: int64"
      ]
     },
     "execution_count": 3,
     "metadata": {},
     "output_type": "execute_result"
    }
   ],
   "source": [
    "df_cluster3['fold'].value_counts()"
   ]
  },
  {
   "cell_type": "markdown",
   "metadata": {},
   "source": [
    "# OOF cluster 3"
   ]
  },
  {
   "cell_type": "code",
   "execution_count": 4,
   "metadata": {},
   "outputs": [],
   "source": [
    "def print_score_preds(model_path, model_name):\n",
    "    device = torch.device('cuda')\n",
    "\n",
    "    checkpoint = torch.load(model_path)\n",
    "\n",
    "    model = EssayClassifierModel(model_name)\n",
    "    model.load_state_dict(checkpoint['model_state_dict'])\n",
    "    model = model.to(device)\n",
    "\n",
    "    dataloader_train, dataloader_valid = create_dataloaders(ProjectPaths.train_cluster3, fold=0, model_name=model_name, batch_size=1)\n",
    "\n",
    "    outputs = np.empty(len(dataloader_valid), dtype=int)\n",
    "    targets = np.empty(len(dataloader_valid), dtype=int)\n",
    "\n",
    "    for b, batch in enumerate(tqdm(dataloader_valid)):\n",
    "        output = model(collate_batch(batch['inputs']).to(device)).cpu().detach().numpy().argmax(axis=1)\n",
    "        target = batch['labels'].cpu().detach().numpy()\n",
    "        outputs[b] = output\n",
    "        targets[b] = target\n",
    "\n",
    "    score = cohen_kappa_score(targets, outputs, weights='quadratic')\n",
    "    print(f'score {score: .4f}')\n",
    "\n",
    "    return targets, outputs\n",
    "\n",
    "\n",
    "def display_distributions(targets, outputs, title):\n",
    "    _, ax = plt.subplots(nrows=1, ncols=1, figsize=(3, 2))\n",
    "\n",
    "    sns.barplot(pd.Series(targets + 1).value_counts(), ax=ax, alpha=0.5, label='target')\n",
    "    sns.barplot(pd.Series(outputs + 1).value_counts(), ax=ax, alpha=0.5, label='predictions')\n",
    "    ax.set_title(title, fontsize=10)\n",
    "    ax.legend()\n",
    "\n",
    "    plt.tight_layout()\n",
    "    plt.show()"
   ]
  },
  {
   "cell_type": "code",
   "execution_count": 5,
   "metadata": {},
   "outputs": [],
   "source": [
    "path_model_on_whole_dataset = 'trained_models/rifx9c0m_best_model.pth'\n",
    "path_model_small_cluster3   = 'trained_models/tf0sbjpt_best_model.pth'\n",
    "path_model_xsmall_cluster3  = 'trained_models/9tj656gj_best_model.pth'"
   ]
  },
  {
   "cell_type": "code",
   "execution_count": 6,
   "metadata": {},
   "outputs": [
    {
     "name": "stdout",
     "output_type": "stream",
     "text": [
      "\u001b[1m\u001b[38;5;254m\u001b[48;5;240m Deberta-v3-small tuned on the whole dataset \u001b[0m\n"
     ]
    },
    {
     "name": "stderr",
     "output_type": "stream",
     "text": [
      "100%|██████████| 301/301 [00:19<00:00, 15.60it/s]\n"
     ]
    },
    {
     "name": "stdout",
     "output_type": "stream",
     "text": [
      "score  0.6991\n"
     ]
    },
    {
     "data": {
      "image/png": "[encoded data removed]",
      "text/plain": [
       "<Figure size 300x200 with 1 Axes>"
      ]
     },
     "metadata": {},
     "output_type": "display_data"
    }
   ],
   "source": [
    "print(f'{TXT_ACC} Deberta-v3-small tuned on the whole dataset {TXT_RESET}')\n",
    "targets_whole, outputs_whole = print_score_preds(path_model_on_whole_dataset, 'microsoft/deberta-v3-small')\n",
    "display_distributions(targets_whole, outputs_whole, 'Deberta-v3-small tuned\\non the whole dataset')"
   ]
  },
  {
   "cell_type": "code",
   "execution_count": 7,
   "metadata": {},
   "outputs": [
    {
     "name": "stdout",
     "output_type": "stream",
     "text": [
      "\u001b[1m\u001b[38;5;254m\u001b[48;5;240m Deberta-v3-small tuned on cluster 3 \u001b[0m\n"
     ]
    },
    {
     "name": "stderr",
     "output_type": "stream",
     "text": [
      "100%|██████████| 301/301 [00:18<00:00, 16.26it/s]\n"
     ]
    },
    {
     "name": "stdout",
     "output_type": "stream",
     "text": [
      "score  0.6881\n"
     ]
    },
    {
     "data": {
      "image/png": "[encoded data removed]",
      "text/plain": [
       "<Figure size 300x200 with 1 Axes>"
      ]
     },
     "metadata": {},
     "output_type": "display_data"
    }
   ],
   "source": [
    "print(f'{TXT_ACC} Deberta-v3-small tuned on cluster 3 {TXT_RESET}')\n",
    "targets_small, outputs_small = print_score_preds(path_model_small_cluster3, 'microsoft/deberta-v3-small')\n",
    "display_distributions(targets_small, outputs_small, 'Deberta-v3-small tuned\\non cluster 3')"
   ]
  },
  {
   "cell_type": "code",
   "execution_count": 8,
   "metadata": {},
   "outputs": [
    {
     "name": "stdout",
     "output_type": "stream",
     "text": [
      "\u001b[1m\u001b[38;5;254m\u001b[48;5;240m Deberta-v3-xsmall on cluster 3 \u001b[0m\n"
     ]
    },
    {
     "name": "stderr",
     "output_type": "stream",
     "text": [
      "100%|██████████| 301/301 [00:15<00:00, 19.46it/s]\n"
     ]
    },
    {
     "name": "stdout",
     "output_type": "stream",
     "text": [
      "score  0.6853\n"
     ]
    },
    {
     "data": {
      "image/png": "[encoded data removed]",
      "text/plain": [
       "<Figure size 300x200 with 1 Axes>"
      ]
     },
     "metadata": {},
     "output_type": "display_data"
    }
   ],
   "source": [
    "print(f'{TXT_ACC} Deberta-v3-xsmall on cluster 3 {TXT_RESET}')\n",
    "targets_xsmall, outputs_xsmall = print_score_preds(path_model_xsmall_cluster3, 'microsoft/deberta-v3-xsmall')\n",
    "display_distributions(targets_xsmall, outputs_xsmall, 'Deberta-v3-xsmall tuned\\non cluster 3')"
   ]
  },
  {
   "cell_type": "code",
   "execution_count": null,
   "metadata": {},
   "outputs": [],
   "source": []
  }
 ],
 "metadata": {
  "kernelspec": {
   "display_name": "Python 3",
   "language": "python",
   "name": "python3"
  },
  "language_info": {
   "codemirror_mode": {
    "name": "ipython",
    "version": 3
   },
   "file_extension": ".py",
   "mimetype": "text/x-python",
   "name": "python",
   "nbconvert_exporter": "python",
   "pygments_lexer": "ipython3",
   "version": "3.8.10"
  }
 },
 "nbformat": 4,
 "nbformat_minor": 2
}
