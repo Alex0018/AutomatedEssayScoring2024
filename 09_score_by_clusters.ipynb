{
 "cells": [
  {
   "cell_type": "code",
   "execution_count": 1,
   "metadata": {},
   "outputs": [
    {
     "name": "stderr",
     "output_type": "stream",
     "text": [
      "C:\\Users\\Hawkins\\AppData\\Local\\Packages\\PythonSoftwareFoundation.Python.3.8_qbz5n2kfra8p0\\LocalCache\\local-packages\\Python38\\site-packages\\tqdm\\auto.py:21: TqdmWarning: IProgress not found. Please update jupyter and ipywidgets. See https://ipywidgets.readthedocs.io/en/stable/user_install.html\n",
      "  from .autonotebook import tqdm as notebook_tqdm\n"
     ]
    }
   ],
   "source": [
    "from tqdm import tqdm\n",
    "import numpy as np\n",
    "import pandas as pd\n",
    "\n",
    "from sklearn.metrics import cohen_kappa_score\n",
    "from sklearn.model_selection import StratifiedKFold\n",
    "import torch\n",
    "\n",
    "from src.config import ProjectPaths, CFG, seed_everything, read_train\n",
    "from src.ES_model import EssayClassifierModel\n",
    "from src.ES_dataset import create_dataloaders\n",
    "from src.training_loop import collate_batch\n",
    "\n",
    "seed_everything(CFG.seed)\n",
    "\n",
    "import warnings\n",
    "warnings.filterwarnings(\"ignore\")\n",
    "\n",
    "SEED=42"
   ]
  },
  {
   "cell_type": "markdown",
   "metadata": {},
   "source": [
    "# Out-of-fold predictions for deberta-v3-small model on fold 0 (out of 5 folds)"
   ]
  },
  {
   "cell_type": "code",
   "execution_count": 3,
   "metadata": {},
   "outputs": [
    {
     "data": {
      "text/html": [
       "<div>\n",
       "<style scoped>\n",
       "    .dataframe tbody tr th:only-of-type {\n",
       "        vertical-align: middle;\n",
       "    }\n",
       "\n",
       "    .dataframe tbody tr th {\n",
       "        vertical-align: top;\n",
       "    }\n",
       "\n",
       "    .dataframe thead th {\n",
       "        text-align: right;\n",
       "    }\n",
       "</style>\n",
       "<table border=\"1\" class=\"dataframe\">\n",
       "  <thead>\n",
       "    <tr style=\"text-align: right;\">\n",
       "      <th></th>\n",
       "      <th>essay_id</th>\n",
       "      <th>label</th>\n",
       "      <th>deberta</th>\n",
       "      <th>clusters7</th>\n",
       "    </tr>\n",
       "  </thead>\n",
       "  <tbody>\n",
       "    <tr>\n",
       "      <th>0</th>\n",
       "      <td>001bdc0</td>\n",
       "      <td>3</td>\n",
       "      <td>2</td>\n",
       "      <td>2</td>\n",
       "    </tr>\n",
       "    <tr>\n",
       "      <th>1</th>\n",
       "      <td>0033037</td>\n",
       "      <td>1</td>\n",
       "      <td>1</td>\n",
       "      <td>5</td>\n",
       "    </tr>\n",
       "    <tr>\n",
       "      <th>2</th>\n",
       "      <td>0066c7c</td>\n",
       "      <td>1</td>\n",
       "      <td>2</td>\n",
       "      <td>0</td>\n",
       "    </tr>\n",
       "    <tr>\n",
       "      <th>3</th>\n",
       "      <td>0072128</td>\n",
       "      <td>3</td>\n",
       "      <td>3</td>\n",
       "      <td>4</td>\n",
       "    </tr>\n",
       "    <tr>\n",
       "      <th>4</th>\n",
       "      <td>0079f2a</td>\n",
       "      <td>1</td>\n",
       "      <td>0</td>\n",
       "      <td>2</td>\n",
       "    </tr>\n",
       "    <tr>\n",
       "      <th>...</th>\n",
       "      <td>...</td>\n",
       "      <td>...</td>\n",
       "      <td>...</td>\n",
       "      <td>...</td>\n",
       "    </tr>\n",
       "    <tr>\n",
       "      <th>3457</th>\n",
       "      <td>ff74f94</td>\n",
       "      <td>4</td>\n",
       "      <td>5</td>\n",
       "      <td>1</td>\n",
       "    </tr>\n",
       "    <tr>\n",
       "      <th>3458</th>\n",
       "      <td>ff988c9</td>\n",
       "      <td>2</td>\n",
       "      <td>2</td>\n",
       "      <td>4</td>\n",
       "    </tr>\n",
       "    <tr>\n",
       "      <th>3459</th>\n",
       "      <td>ffcb061</td>\n",
       "      <td>2</td>\n",
       "      <td>2</td>\n",
       "      <td>3</td>\n",
       "    </tr>\n",
       "    <tr>\n",
       "      <th>3460</th>\n",
       "      <td>fffb49b</td>\n",
       "      <td>0</td>\n",
       "      <td>0</td>\n",
       "      <td>2</td>\n",
       "    </tr>\n",
       "    <tr>\n",
       "      <th>3461</th>\n",
       "      <td>fffed3e</td>\n",
       "      <td>1</td>\n",
       "      <td>1</td>\n",
       "      <td>2</td>\n",
       "    </tr>\n",
       "  </tbody>\n",
       "</table>\n",
       "<p>3462 rows × 4 columns</p>\n",
       "</div>"
      ],
      "text/plain": [
       "     essay_id  label  deberta  clusters7\n",
       "0     001bdc0      3        2          2\n",
       "1     0033037      1        1          5\n",
       "2     0066c7c      1        2          0\n",
       "3     0072128      3        3          4\n",
       "4     0079f2a      1        0          2\n",
       "...       ...    ...      ...        ...\n",
       "3457  ff74f94      4        5          1\n",
       "3458  ff988c9      2        2          4\n",
       "3459  ffcb061      2        2          3\n",
       "3460  fffb49b      0        0          2\n",
       "3461  fffed3e      1        1          2\n",
       "\n",
       "[3462 rows x 4 columns]"
      ]
     },
     "execution_count": 3,
     "metadata": {},
     "output_type": "execute_result"
    }
   ],
   "source": [
    "df_fold0 = pd.read_csv('data/train_deberta_small_oof_fold0.csv')\n",
    "df_clusters = pd.read_csv('data/train_clusters.csv')\n",
    "df_fold0 = df_fold0.merge(df_clusters[['essay_id', 'clusters7']], on='essay_id')\n",
    "df_fold0"
   ]
  },
  {
   "cell_type": "markdown",
   "metadata": {},
   "source": [
    "# Cluster sizes for fold 0"
   ]
  },
  {
   "cell_type": "code",
   "execution_count": 4,
   "metadata": {},
   "outputs": [
    {
     "data": {
      "text/plain": [
       "clusters7\n",
       "0    0.202773\n",
       "1    0.122761\n",
       "2    0.182265\n",
       "3    0.086944\n",
       "4    0.112652\n",
       "5    0.170422\n",
       "6    0.122184\n",
       "Name: count, dtype: float64"
      ]
     },
     "execution_count": 4,
     "metadata": {},
     "output_type": "execute_result"
    }
   ],
   "source": [
    "(df_fold0['clusters7'].value_counts() / df_fold0.shape[0]).sort_index()"
   ]
  },
  {
   "cell_type": "markdown",
   "metadata": {},
   "source": [
    "# OOF metric for each cluster"
   ]
  },
  {
   "cell_type": "code",
   "execution_count": 10,
   "metadata": {},
   "outputs": [
    {
     "name": "stdout",
     "output_type": "stream",
     "text": [
      "OOF score for fold 0:    0.8198\n",
      "\n",
      "OOF score for fold 0 cluster 0:    0.7857\n",
      "OOF score for fold 0 cluster 1:    0.8359\n",
      "OOF score for fold 0 cluster 2:    0.8299\n",
      "OOF score for fold 0 cluster 3:    0.6991\n",
      "OOF score for fold 0 cluster 4:    0.7795\n",
      "OOF score for fold 0 cluster 5:    0.8472\n",
      "OOF score for fold 0 cluster 6:    0.7831\n"
     ]
    }
   ],
   "source": [
    "score = cohen_kappa_score(df_fold0['label'], df_fold0['deberta'], weights='quadratic')\n",
    "print(f'OOF score for fold 0:    {score:,.4f}\\n')\n",
    "\n",
    "for cl in range(7):\n",
    "    df = df_fold0.query(f'clusters7=={cl}')\n",
    "    score = cohen_kappa_score(df['label'], df['deberta'], weights='quadratic')\n",
    "    print(f'OOF score for fold 0 cluster {cl}:    {score:,.4f}')"
   ]
  },
  {
   "cell_type": "code",
   "execution_count": null,
   "metadata": {},
   "outputs": [],
   "source": []
  }
 ],
 "metadata": {
  "kernelspec": {
   "display_name": "Python 3",
   "language": "python",
   "name": "python3"
  },
  "language_info": {
   "codemirror_mode": {
    "name": "ipython",
    "version": 3
   },
   "file_extension": ".py",
   "mimetype": "text/x-python",
   "name": "python",
   "nbconvert_exporter": "python",
   "pygments_lexer": "ipython3",
   "version": "3.8.10"
  }
 },
 "nbformat": 4,
 "nbformat_minor": 2
}
